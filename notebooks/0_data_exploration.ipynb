{
 "cells": [
  {
   "metadata": {
    "ExecuteTime": {
     "end_time": "2025-02-14T18:26:42.015134Z",
     "start_time": "2025-02-14T18:26:41.193565Z"
    }
   },
   "cell_type": "code",
   "source": [
    "# 1_data_exploration.ipynb\n",
    "# ---------------------------\n",
    "# 改进要点:\n",
    "# 1) 与原逻辑相同, 但提示你可添加更多歌曲/风格 => 数据量足够才能让副歌检测更加泛化\n",
    "# 2) 如果 chorus_labels.csv 很少, 需要更多人工标注\n",
    "\n",
    "import os\n",
    "import librosa\n",
    "import pandas as pd\n",
    "import matplotlib.pyplot as plt\n",
    "\n",
    "AUDIO_FOLDER = \"../data/raw/\"\n",
    "\n",
    "audio_files = [f for f in os.listdir(AUDIO_FOLDER) if (f.endswith(\".mp3\") or f.endswith(\".wav\"))]\n",
    "print(\"找到音频文件共\", len(audio_files), \"个:\", audio_files)\n",
    "\n",
    "durations = []\n",
    "for afile in audio_files:\n",
    "    path = os.path.join(AUDIO_FOLDER, afile)\n",
    "    y, sr = librosa.load(path, sr=None)  # 不重采样\n",
    "    duration_sec = len(y)/sr\n",
    "    durations.append((afile, duration_sec))\n",
    "\n",
    "df = pd.DataFrame(durations, columns=[\"filename\",\"duration_sec\"])\n",
    "print(\"\\n音频时长统计:\")\n",
    "print(df)\n",
    "\n",
    "# 可视化:\n",
    "df[\"duration_sec\"].hist(bins=5)\n",
    "plt.xlabel(\"Duration (sec)\")\n",
    "plt.ylabel(\"Count\")\n",
    "plt.title(\"Audio length distribution in data/raw/\")\n",
    "plt.show()\n",
    "\n",
    "# (可选) 查看 chorus_labels.csv\n",
    "label_csv = \"chorus_labels.csv\"\n",
    "if os.path.exists(label_csv):\n",
    "    df_label = pd.read_csv(label_csv)\n",
    "    print(\"\\nchorus_labels.csv:\")\n",
    "    print(df_label.head())\n",
    "    df_label[\"length\"] = df_label[\"end_sec\"] - df_label[\"start_sec\"]\n",
    "    print(\"\\n副歌区间长度分布:\")\n",
    "    print(df_label[\"length\"].describe())\n",
    "\n",
    "print(\"\"\"\n",
    "[提示 - 更多数据]\n",
    "- 如果想要“专家级”副歌检测,\n",
    "  需要收集更多风格, 更长时长, 并在 chorus_labels.csv 中仔细标注副歌区间\n",
    "- 若只有少量文件, 强烈建议扩大数据集\n",
    "\"\"\")\n",
    "\n",
    "print(\"\\n探索完成.\")"
   ],
   "id": "3478fd4454a5521e",
   "outputs": [
    {
     "name": "stdout",
     "output_type": "stream",
     "text": [
      "找到音频文件共 4 个: ['Taylor Swift - Cruel Summer.mp3', 'taylor swift-welcome to new york.mp3', 'taylor swift-last christmas.mp3', 'Taylor Swift - Love Story.mp3']\n",
      "\n",
      "音频时长统计:\n",
      "                               filename  duration_sec\n",
      "0       Taylor Swift - Cruel Summer.mp3    178.426667\n",
      "1  taylor swift-welcome to new york.mp3    212.600000\n",
      "2       taylor swift-last christmas.mp3    219.136000\n",
      "3         Taylor Swift - Love Story.mp3    235.766644\n"
     ]
    },
    {
     "data": {
      "text/plain": [
       "<Figure size 640x480 with 1 Axes>"
      ],
      "image/png": "[encoded data removed]"
     },
     "metadata": {},
     "output_type": "display_data"
    },
    {
     "name": "stdout",
     "output_type": "stream",
     "text": [
      "\n",
      "chorus_labels.csv:\n",
      "                               filename  start_sec  end_sec\n",
      "0       Taylor Swift - Cruel Summer.mp3       75.0     98.0\n",
      "1         Taylor Swift - Love Story.mp3       64.0     81.0\n",
      "2         Taylor Swift - Love Story.mp3      116.0    133.0\n",
      "3  taylor swift-welcome to new york.mp3       47.0     60.0\n",
      "4       taylor swift-last christmas.mp3       87.0    104.0\n",
      "\n",
      "副歌区间长度分布:\n",
      "count     5.000000\n",
      "mean     17.400000\n",
      "std       3.577709\n",
      "min      13.000000\n",
      "25%      17.000000\n",
      "50%      17.000000\n",
      "75%      17.000000\n",
      "max      23.000000\n",
      "Name: length, dtype: float64\n",
      "\n",
      "[提示 - 更多数据]\n",
      "- 如果想要“专家级”副歌检测,\n",
      "  需要收集更多风格, 更长时长, 并在 chorus_labels.csv 中仔细标注副歌区间\n",
      "- 若只有少量文件, 强烈建议扩大数据集\n",
      "\n",
      "\n",
      "探索完成.\n"
     ]
    }
   ],
   "execution_count": 3
  },
  {
   "metadata": {
    "ExecuteTime": {
     "end_time": "2025-02-14T09:40:15.797840Z",
     "start_time": "2025-02-14T09:40:15.796179Z"
    }
   },
   "cell_type": "code",
   "source": "",
   "id": "a167d1e916ccbe8d",
   "outputs": [],
   "execution_count": null
  },
  {
   "metadata": {},
   "cell_type": "markdown",
   "source": "",
   "id": "26bac8e441a0337b"
  },
  {
   "metadata": {},
   "cell_type": "markdown",
   "source": "",
   "id": "46d227e4cea93954"
  }
 ],
 "metadata": {
  "kernelspec": {
   "name": "python3",
   "language": "python",
   "display_name": "Python 3 (ipykernel)"
  }
 },
 "nbformat": 5,
 "nbformat_minor": 9
}
