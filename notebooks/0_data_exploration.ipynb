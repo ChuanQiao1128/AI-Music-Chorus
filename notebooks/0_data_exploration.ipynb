{
 "cells": [
  {
   "metadata": {
    "ExecuteTime": {
     "end_time": "2025-02-13T07:56:59.821933Z",
     "start_time": "2025-02-13T07:56:48.775390Z"
    }
   },
   "cell_type": "code",
   "source": [
    "# 1_data_exploration.ipynb\n",
    "\n",
    "# ---\n",
    "# 目的: 对 data/raw/ 下的音频做基本的可视化/统计\n",
    "# 1. 查看有多少首歌, 每首多长\n",
    "# 2. 如果有元数据(如流派/演唱者), 就统计一下\n",
    "# 3. (可选) 播放某首歌并做简单波形图\n",
    "\n",
    "import os\n",
    "import librosa\n",
    "import pandas as pd\n",
    "import matplotlib.pyplot as plt\n",
    "\n",
    "# 假设 data/raw/ 下放了你的 mp3 或 wav\n",
    "AUDIO_FOLDER = \"../data/raw/\"\n",
    "\n",
    "# 1. 列出音频\n",
    "audio_files = [f for f in os.listdir(AUDIO_FOLDER) if f.endswith(\".mp3\") or f.endswith(\".wav\")]\n",
    "print(\"找到音频文件:\", audio_files)\n",
    "\n",
    "durations = []\n",
    "for afile in audio_files:\n",
    "    path = os.path.join(AUDIO_FOLDER, afile)\n",
    "    y, sr = librosa.load(path, sr=None)  # 不重采样\n",
    "    duration_sec = len(y) / sr\n",
    "    durations.append((afile, duration_sec))\n",
    "\n",
    "df = pd.DataFrame(durations, columns=[\"filename\", \"duration_sec\"])\n",
    "print(\"音频时长统计:\")\n",
    "print(df)\n",
    "\n",
    "# 2. 简单可视化\n",
    "df[\"duration_sec\"].hist(bins=5)\n",
    "plt.xlabel(\"Duration (sec)\")\n",
    "plt.ylabel(\"Count\")\n",
    "plt.title(\"Audio length distribution\")\n",
    "plt.show()\n",
    "\n",
    "# 3. (可选) 如果有 metadata/songs.csv, 可以加载\n",
    "#    pd.read_csv(\"../data/metadata/songs.csv\")\n",
    "\n",
    "# 4. (可选) 播放其中一个文件, 需 Jupyter magic or IPython.display\n",
    "# from IPython.display import Audio\n",
    "# Audio(filename=\"../data/raw/some_song.mp3\")\n",
    "\n",
    "print(\"探索完成.\")"
   ],
   "id": "3478fd4454a5521e",
   "outputs": [
    {
     "name": "stderr",
     "output_type": "stream",
     "text": [
      "Matplotlib is building the font cache; this may take a moment.\n"
     ]
    },
    {
     "name": "stdout",
     "output_type": "stream",
     "text": [
      "找到音频文件: ['Taylor Swift - Cruel Summer.mp3', 'taylor swift-welcome to new york.mp3', 'taylor swift-last christmas.mp3', 'Taylor Swift - Love Story.mp3']\n",
      "音频时长统计:\n",
      "                               filename  duration_sec\n",
      "0       Taylor Swift - Cruel Summer.mp3    178.426667\n",
      "1  taylor swift-welcome to new york.mp3    212.600000\n",
      "2       taylor swift-last christmas.mp3    219.136000\n",
      "3         Taylor Swift - Love Story.mp3    235.766644\n"
     ]
    },
    {
     "data": {
      "text/plain": [
       "<Figure size 640x480 with 1 Axes>"
      ],
      "image/png": "[encoded data removed]"
     },
     "metadata": {},
     "output_type": "display_data"
    },
    {
     "name": "stdout",
     "output_type": "stream",
     "text": [
      "探索完成.\n"
     ]
    }
   ],
   "execution_count": 1
  },
  {
   "metadata": {},
   "cell_type": "code",
   "outputs": [],
   "execution_count": null,
   "source": "",
   "id": "a167d1e916ccbe8d"
  },
  {
   "metadata": {},
   "cell_type": "markdown",
   "source": "",
   "id": "26bac8e441a0337b"
  },
  {
   "metadata": {},
   "cell_type": "markdown",
   "source": "",
   "id": "46d227e4cea93954"
  }
 ],
 "metadata": {
  "kernelspec": {
   "name": "python3",
   "language": "python",
   "display_name": "Python 3 (ipykernel)"
  }
 },
 "nbformat": 5,
 "nbformat_minor": 9
}
