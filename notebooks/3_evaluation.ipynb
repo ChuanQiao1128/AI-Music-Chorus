{
 "cells": [
  {
   "metadata": {
    "ExecuteTime": {
     "end_time": "2025-02-12T19:28:10.473257Z",
     "start_time": "2025-02-12T19:28:10.470650Z"
    }
   },
   "cell_type": "code",
   "source": [
    "# 4_evaluation.ipynb\n",
    "\n",
    "# ---\n",
    "# 目的: 载入训练好的模型 => 评估在测试集(或相同样本) => 计算准确率等\n",
    "\n",
    "import os\n",
    "import numpy as np\n",
    "import pandas as pd\n",
    "import torch\n",
    "import torch.nn as nn\n",
    "\n",
    "MODEL_PATH = \"../saved_models/mlp_chorus_model.pt\"\n",
    "FEATURE_FOLDER = \"../data/processed/\"\n",
    "\n",
    "# 同一个 MLP 结构\n",
    "class MLP(nn.Module):\n",
    "    def __init__(self, input_dim=13, hidden_dim=16, output_dim=2):\n",
    "        super().__init__()\n",
    "        self.fc1 = nn.Linear(input_dim, hidden_dim)\n",
    "        self.relu = nn.ReLU()\n",
    "        self.fc2 = nn.Linear(hidden_dim, output_dim)\n",
    "    def forward(self, x):\n",
    "        x = self.fc1(x)\n",
    "        x = self.relu(x)\n",
    "        x = self.fc2(x)\n",
    "        return x\n",
    "\n",
    "model = MLP(input_dim=13, hidden_dim=16, output_dim=2)\n",
    "model.load_state_dict(torch.load(MODEL_PATH))\n",
    "model.eval()\n",
    "\n",
    "# 加载 feature_index.csv\n",
    "df = pd.read_csv(os.path.join(FEATURE_FOLDER, \"feature_index.csv\"))\n",
    "X_list = []\n",
    "y_list = []\n",
    "for idx, row in df.iterrows():\n",
    "    feats = np.load(row[\"feature_path\"])\n",
    "    X_list.append(feats)\n",
    "    label = 0 if idx==0 else 1  # demo\n",
    "    y_list.append(label)\n",
    "\n",
    "X = np.array(X_list, dtype=np.float32)\n",
    "y = np.array(y_list, dtype=np.int64)\n",
    "\n",
    "X_t = torch.from_numpy(X)\n",
    "with torch.no_grad():\n",
    "    output = model(X_t)  # shape (N,2)\n",
    "pred = output.argmax(dim=1).numpy()\n",
    "\n",
    "acc = (pred == y).mean()\n",
    "print(\"Prediction:\", pred, \" Label:\", y)\n",
    "print(f\"Accuracy = {acc*100:.2f}%\")\n",
    "\n",
    "# (如果你只有2首歌, 这里评估其实没什么意义, 只是演示流程)"
   ],
   "id": "adeb753b5ff66f8",
   "outputs": [],
   "execution_count": 1
  },
  {
   "metadata": {},
   "cell_type": "code",
   "outputs": [],
   "execution_count": null,
   "source": "",
   "id": "5eac9456575cfa1c"
  }
 ],
 "metadata": {
  "kernelspec": {
   "name": "python3",
   "language": "python",
   "display_name": "Python 3 (ipykernel)"
  }
 },
 "nbformat": 5,
 "nbformat_minor": 9
}
