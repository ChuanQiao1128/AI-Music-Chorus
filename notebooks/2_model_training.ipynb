{
 "cells": [
  {
   "metadata": {
    "ExecuteTime": {
     "end_time": "2025-02-12T19:27:37.455027Z",
     "start_time": "2025-02-12T19:27:37.453392Z"
    }
   },
   "cell_type": "code",
   "source": [
    "# 3_model_training.ipynb\n",
    "\n",
    "# ---\n",
    "# 目的: 读取特征 => 构建简单模型 => 训练 => 保存 model.pt\n",
    "# 注意: 只有2首歌几乎无法训练出有意义模型, 仅演示流程\n",
    "\n",
    "import os\n",
    "import numpy as np\n",
    "import pandas as pd\n",
    "import torch\n",
    "import torch.nn as nn\n",
    "import torch.optim as optim\n",
    "\n",
    "FEATURE_FOLDER = \"../data/processed/\"\n",
    "MODEL_PATH = \"../saved_models/mlp_chorus_model.pt\"\n",
    "\n",
    "# 1. 加载 feature_index.csv\n",
    "df = pd.read_csv(os.path.join(FEATURE_FOLDER, \"feature_index.csv\"))\n",
    "print(df)\n",
    "\n",
    "# 2. 伪造标签(仅演示) => 0=非副歌, 1=副歌\n",
    "#   如果你想做2类分类(副歌/非副歌), 你需要打样本label\n",
    "#   目前只有2首 => 可能随意\n",
    "features_list = []\n",
    "labels_list = []\n",
    "for idx, row in df.iterrows():\n",
    "    feat_path = row[\"feature_path\"]\n",
    "    feats = np.load(feat_path)\n",
    "    # feats shape (13,) => let's store them\n",
    "    # demo: assume the first file label=0, second=1\n",
    "    label = 0 if idx==0 else 1\n",
    "\n",
    "    features_list.append(feats)\n",
    "    labels_list.append(label)\n",
    "\n",
    "X = np.array(features_list, dtype=np.float32)  # shape (N, 13)\n",
    "y = np.array(labels_list, dtype=np.int64)      # shape (N,)\n",
    "\n",
    "print(\"X shape=\", X.shape, \"y shape=\", y.shape)\n",
    "\n",
    "# 3. 构建简单 MLP\n",
    "class MLP(nn.Module):\n",
    "    def __init__(self, input_dim=13, hidden_dim=32, output_dim=2):\n",
    "        super().__init__()\n",
    "        self.fc1 = nn.Linear(input_dim, hidden_dim)\n",
    "        self.relu = nn.ReLU()\n",
    "        self.fc2 = nn.Linear(hidden_dim, output_dim)\n",
    "    def forward(self, x):\n",
    "        x = self.fc1(x)\n",
    "        x = self.relu(x)\n",
    "        x = self.fc2(x)\n",
    "        return x\n",
    "\n",
    "model = MLP(input_dim=13, hidden_dim=16, output_dim=2)\n",
    "print(model)\n",
    "\n",
    "criterion = nn.CrossEntropyLoss()\n",
    "optimizer = optim.Adam(model.parameters(), lr=1e-3)\n",
    "\n",
    "# 4. 训练(极简)\n",
    "X_torch = torch.from_numpy(X)\n",
    "y_torch = torch.from_numpy(y)\n",
    "\n",
    "for epoch in range(50):\n",
    "    optimizer.zero_grad()\n",
    "    out = model(X_torch)\n",
    "    loss = criterion(out, y_torch)\n",
    "    loss.backward()\n",
    "    optimizer.step()\n",
    "    if (epoch+1)%10==0:\n",
    "        print(f\"Epoch {epoch+1}, loss={loss.item():.4f}\")\n",
    "\n",
    "# 5. 保存\n",
    "os.makedirs(\"../saved_models\", exist_ok=True)\n",
    "torch.save(model.state_dict(), MODEL_PATH)\n",
    "print(\"模型训练完毕, 已保存到\", MODEL_PATH)"
   ],
   "id": "e699125cae1770ca",
   "outputs": [],
   "execution_count": 2
  },
  {
   "metadata": {
    "ExecuteTime": {
     "end_time": "2025-02-13T01:42:39.449264Z",
     "start_time": "2025-02-13T01:42:39.439140Z"
    }
   },
   "cell_type": "code",
   "source": "",
   "id": "16b4bd8b42aafde5",
   "outputs": [
    {
     "name": "stdout",
     "output_type": "stream",
     "text": [
      "Epoch [2/10], Loss: 0.0204\n",
      "Epoch [4/10], Loss: 0.0020\n",
      "Epoch [6/10], Loss: 0.0004\n",
      "Epoch [8/10], Loss: 0.0001\n",
      "Epoch [10/10], Loss: 0.0000\n",
      "模型训练完成并已保存\n"
     ]
    }
   ],
   "execution_count": 5
  },
  {
   "metadata": {
    "ExecuteTime": {
     "end_time": "2025-02-12T21:07:48.652639Z",
     "start_time": "2025-02-12T21:07:48.650684Z"
    }
   },
   "cell_type": "code",
   "source": "",
   "id": "ff78eb4b5f20574d",
   "outputs": [],
   "execution_count": null
  },
  {
   "metadata": {},
   "cell_type": "code",
   "outputs": [],
   "execution_count": null,
   "source": "",
   "id": "aa8741744d0c3673"
  }
 ],
 "metadata": {
  "kernelspec": {
   "name": "python3",
   "language": "python",
   "display_name": "Python 3 (ipykernel)"
  }
 },
 "nbformat": 5,
 "nbformat_minor": 9
}
