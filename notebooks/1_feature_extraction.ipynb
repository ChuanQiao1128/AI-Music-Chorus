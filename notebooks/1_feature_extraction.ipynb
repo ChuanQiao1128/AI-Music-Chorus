{
 "cells": [
  {
   "metadata": {
    "ExecuteTime": {
     "end_time": "2025-02-13T08:09:22.213529Z",
     "start_time": "2025-02-13T08:09:20.331756Z"
    }
   },
   "cell_type": "code",
   "source": [
    "import os\n",
    "import numpy as np\n",
    "import librosa\n",
    "import pandas as pd\n",
    "\n",
    "# 1. 读取手动标注副歌的文件\n",
    "df_labels = pd.read_csv(\"chorus_labels.csv\")  # eg: filename,start_sec,end_sec\n",
    "label_dict = {}  # { filename -> [ (start,end), ... ] }\n",
    "\n",
    "for _, row in df_labels.iterrows():\n",
    "    fname = row[\"filename\"]\n",
    "    start_sec = float(row[\"start_sec\"])\n",
    "    end_sec = float(row[\"end_sec\"])\n",
    "    label_dict.setdefault(fname, []).append((start_sec, end_sec))\n",
    "\n",
    "# 2. 遍历 raw audio 并分帧 => 提取特征 => 判断是否副歌 => 保存到 .npy\n",
    "AUDIO_FOLDER = \"../data/raw/\"\n",
    "FEATURE_FOLDER = \"../data/processed/\"   # 训练脚本中也用它\n",
    "os.makedirs(FEATURE_FOLDER, exist_ok=True)\n",
    "\n",
    "all_files = [f for f in os.listdir(AUDIO_FOLDER) if f.endswith(\".mp3\")]\n",
    "metadata_list = []  # 用于存特征文件路径和标签\n",
    "\n",
    "def extract_mfcc_mean(wave_data, sr, n_mfcc=13):\n",
    "    # 示例特征：提取 MFCC 并对每帧均值 => shape(13,)\n",
    "    mfcc = librosa.feature.mfcc(y=wave_data, sr=sr, n_mfcc=n_mfcc)\n",
    "    mfcc_mean = mfcc.mean(axis=1)\n",
    "    return mfcc_mean  # (13,)\n",
    "\n",
    "frame_size = 2.0  # 每帧2秒\n",
    "overlap_threshold = 0.5  # 帧与副歌区间交叠超过50%则记为副歌\n",
    "\n",
    "for afile in all_files:\n",
    "    path = os.path.join(AUDIO_FOLDER, afile)\n",
    "    y, sr = librosa.load(path, sr=None)\n",
    "\n",
    "    current_t = 0.0\n",
    "    i = 0\n",
    "    while True:\n",
    "        start_sample = int(i * frame_size * sr)\n",
    "        end_sample = int((i+1) * frame_size * sr)\n",
    "        if start_sample >= len(y):\n",
    "            break\n",
    "        segment = y[start_sample:end_sample]\n",
    "\n",
    "        # =========== 在此提取特征（例如MFCC均值） ===========\n",
    "        feats = extract_mfcc_mean(segment, sr, n_mfcc=13)\n",
    "        # ===============================================\n",
    "\n",
    "        # 判定该帧是否副歌\n",
    "        frame_start_sec = current_t\n",
    "        frame_end_sec   = current_t + frame_size\n",
    "        is_chorus = 0\n",
    "        if afile in label_dict:\n",
    "            for (s,e) in label_dict[afile]:\n",
    "                # 计算交叠\n",
    "                overlap = min(frame_end_sec,e) - max(frame_start_sec,s)\n",
    "                if overlap > frame_size * overlap_threshold:\n",
    "                    is_chorus = 1\n",
    "                    break\n",
    "\n",
    "        # 把特征 feats 保存为 .npy 文件\n",
    "        frame_name = f\"{afile}_{i}.npy\"\n",
    "        frame_path = os.path.join(FEATURE_FOLDER, frame_name)\n",
    "        np.save(frame_path, feats)\n",
    "\n",
    "        # 记录到 metadata_list\n",
    "        # format: (feature_path, label)\n",
    "        metadata_list.append((frame_path, is_chorus))\n",
    "\n",
    "        current_t += frame_size\n",
    "        i += 1\n",
    "\n",
    "# 3. 生成 feature_index.csv 供 3_model_training.ipynb 使用\n",
    "df_meta = pd.DataFrame(metadata_list, columns=[\"feature_path\",\"label\"])\n",
    "df_meta.to_csv(os.path.join(FEATURE_FOLDER, \"feature_index.csv\"), index=False)\n",
    "print(\"已生成特征文件 & feature_index.csv =>\", os.path.join(FEATURE_FOLDER, \"feature_index.csv\"))"
   ],
   "id": "e2873055a6dab9bf",
   "outputs": [
    {
     "name": "stdout",
     "output_type": "stream",
     "text": [
      "已生成特征文件 & feature_index.csv => ../data/processed/feature_index.csv\n"
     ]
    }
   ],
   "execution_count": 17
  },
  {
   "metadata": {
    "ExecuteTime": {
     "end_time": "2025-02-13T08:01:32.361304Z",
     "start_time": "2025-02-13T08:01:32.359827Z"
    }
   },
   "cell_type": "code",
   "source": "",
   "id": "3408ec24b240df6c",
   "outputs": [],
   "execution_count": null
  },
  {
   "metadata": {
    "ExecuteTime": {
     "end_time": "2025-02-12T20:39:03.726429Z",
     "start_time": "2025-02-12T20:39:03.724376Z"
    }
   },
   "cell_type": "code",
   "source": "",
   "id": "4f6eb8c37a462d98",
   "outputs": [],
   "execution_count": null
  },
  {
   "metadata": {},
   "cell_type": "code",
   "outputs": [],
   "execution_count": null,
   "source": "",
   "id": "aa118b9d48a9340e"
  }
 ],
 "metadata": {
  "kernelspec": {
   "name": "python3",
   "language": "python",
   "display_name": "Python 3 (ipykernel)"
  }
 },
 "nbformat": 5,
 "nbformat_minor": 9
}
