{
 "cells": [
  {
   "metadata": {},
   "cell_type": "code",
   "outputs": [],
   "execution_count": null,
   "source": [
    "import os\n",
    "import numpy as np\n",
    "import librosa\n",
    "import pandas as pd\n",
    "\n",
    "df_labels = pd.read_csv(\"chorus_labels.csv\")  # 手动标注的副歌区间\n",
    "label_dict = {}  # { filename -> [ (start,end), ... ] }\n",
    "\n",
    "for _, row in df_labels.iterrows():\n",
    "    fname = row[\"filename\"]\n",
    "    start_sec = float(row[\"start_sec\"])\n",
    "    end_sec = float(row[\"end_sec\"])\n",
    "    label_dict.setdefault(fname, []).append((start_sec, end_sec))\n",
    "\n",
    "# 之后遍历 raw audio\n",
    "AUDIO_FOLDER = \"../data/raw/\"\n",
    "all_files = [f for f in os.listdir(AUDIO_FOLDER) if f.endswith(\".mp3\")]\n",
    "\n",
    "X_list = []\n",
    "y_list = []\n",
    "for afile in all_files:\n",
    "    y, sr = librosa.load(os.path.join(AUDIO_FOLDER, afile), sr=None)\n",
    "    # 按 frame_size=2s, 2s=2*sr samples\n",
    "    frame_size = 2.0\n",
    "    # ...\n",
    "    current_t = 0.0\n",
    "    i = 0\n",
    "    while True:\n",
    "        start_sample = int(i * frame_size * sr)\n",
    "        end_sample = int((i+1) * frame_size * sr)\n",
    "        if start_sample >= len(y):\n",
    "            break\n",
    "        segment = y[start_sample:end_sample]\n",
    "        # 提取特征(例如mfcc mean)\n",
    "        feats = ...\n",
    "\n",
    "        # 判定该帧是否落在副歌区间\n",
    "        # (简单逻辑: 帧中心或者任何交叠大于一半)\n",
    "        frame_start_sec = current_t\n",
    "        frame_end_sec   = current_t + frame_size\n",
    "\n",
    "        is_chorus = 0\n",
    "        if afile in label_dict:\n",
    "            for (s,e) in label_dict[afile]:\n",
    "                # 如果与(s,e)有足够交叠\n",
    "                overlap = min(frame_end_sec,e) - max(frame_start_sec,s)\n",
    "                if overlap > frame_size*0.5:  # 超过一半则认为副歌\n",
    "                    is_chorus = 1\n",
    "                    break\n",
    "\n",
    "        X_list.append(feats)\n",
    "        y_list.append(is_chorus)\n",
    "\n",
    "        current_t += frame_size\n",
    "        i += 1\n",
    "\n",
    "# 最后 X_list, y_list 就是你的训练数据\n",
    "X = np.array(X_list)\n",
    "y = np.array(y_list)\n",
    "print(\"副歌帧:\", sum(y), \" 非副歌帧:\", len(y)-sum(y))\n",
    "# 存到 npy or 直接后面做训练"
   ],
   "id": "e2873055a6dab9bf"
  },
  {
   "metadata": {
    "ExecuteTime": {
     "end_time": "2025-02-13T01:42:36.807936Z",
     "start_time": "2025-02-13T01:42:36.284321Z"
    }
   },
   "cell_type": "code",
   "source": "",
   "id": "3408ec24b240df6c",
   "outputs": [],
   "execution_count": 9
  },
  {
   "metadata": {
    "ExecuteTime": {
     "end_time": "2025-02-12T20:39:03.726429Z",
     "start_time": "2025-02-12T20:39:03.724376Z"
    }
   },
   "cell_type": "code",
   "source": "",
   "id": "4f6eb8c37a462d98",
   "outputs": [],
   "execution_count": null
  },
  {
   "metadata": {},
   "cell_type": "code",
   "outputs": [],
   "execution_count": null,
   "source": "",
   "id": "aa118b9d48a9340e"
  }
 ],
 "metadata": {
  "kernelspec": {
   "name": "python3",
   "language": "python",
   "display_name": "Python 3 (ipykernel)"
  }
 },
 "nbformat": 5,
 "nbformat_minor": 9
}
